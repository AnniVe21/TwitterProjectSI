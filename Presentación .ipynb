{
 "cells": [
  {
   "cell_type": "markdown",
   "metadata": {},
   "source": [
    "# Introduccion\n"
   ]
  },
  {
   "cell_type": "markdown",
   "metadata": {},
   "source": [
    "El uso de las redes sociales ha ido evolucionando a medida que nos vamos adaptando a los medios tecnológicos en la cotidianidad, por esto actualmente se han convertido en el medio de comunicación más usado a nivel global. Desde hace un par de años se han estado creando distintas redes sociales que responden a las necesidades e intereses de las cadenas de prensa e incluso de distintos usuarios. En este caso, nos enfocaremos en Twitter la cual es una plataforma digital que permite compartir contenido en textos cortos e incluso se puede agregar material audiovisual.  Es una red que facilita el intercambio de información de diversos temas y la interacción entre miles de usuarios de todas partes del mundo, y en este caso unos más influyentes que otros. Esta influencia se viene midiendo en la cantidad de seguidores, tweets que son replicados por otros usuarios y la interacción que tienen con estas cuentas. Los anteriores elementos son propios de la red social con los cuales se pueden extraer datos de distintas cuentas y hacer análisis sobre las dinámicas de esta. \n",
    "Como es bien sabido, Twitter se ha vuelto una herramienta de marketing, negocios e incluso como generador de polémicas y discusiones de interés, y es por esto que en este proyecto se quieren analizar las dinámicas que diariamente las cuentas de periodismo de Colombia tienen para generar visualizaciones, imponer temas que sean tendencia e incluso ganar más seguidores.\n",
    "\n",
    "Para este análisis, se utilizarán las cuentas más influyentes de Colombia que han sido seleccionadas en un estudio realizado por la plataforma Quantico. Las 30 cuentas por analizar hacen parte de las categorías: Noticias, Radio y Periodismo. Con el fin de tener resultados certeros sobre cómo se mueven las noticias a lo largo y ancho del país y si son estas cuentas quienes más influencia tienen en los resultados para los usuarios de este territorio geográfico. \n",
    "Además, se consolidarán los resultados del análisis en una aplicación en la cual se puedan visualizar los datos a partir del software Tableau.\n"
   ]
  },
  {
   "cell_type": "markdown",
   "metadata": {},
   "source": [
    "# Objectivos\n"
   ]
  },
  {
   "cell_type": "markdown",
   "metadata": {},
   "source": [
    "General:\n",
    "\n",
    "- Analizar las dinámicas de las cuentas de prensa más influyentes en Colombia.\n",
    "\n",
    "Específicos:\n",
    "\n",
    "- Extraer información a partir de una API creada en esta red social.\n",
    "\n",
    "- Crear una aplicación que muestre los resultados de estudio"
   ]
  },
  {
   "cell_type": "markdown",
   "metadata": {},
   "source": [
    "# Preguntas de investigación\n"
   ]
  },
  {
   "cell_type": "markdown",
   "metadata": {},
   "source": [
    "- ¿Cuáles son los hashtags más usados por las cuentas más influyentes en la prensa colombiana?\n",
    "- ¿Son estos hashtags certeros a la hora de buscar qué está pasando en Colombia?"
   ]
  },
  {
   "cell_type": "markdown",
   "metadata": {},
   "source": [
    "# Red Social utilizada: "
   ]
  },
  {
   "cell_type": "markdown",
   "metadata": {},
   "source": [
    "Twitter"
   ]
  }
 ],
 "metadata": {
  "kernelspec": {
   "display_name": "Python 3",
   "language": "python",
   "name": "python3"
  },
  "language_info": {
   "codemirror_mode": {
    "name": "ipython",
    "version": 3
   },
   "file_extension": ".py",
   "mimetype": "text/x-python",
   "name": "python",
   "nbconvert_exporter": "python",
   "pygments_lexer": "ipython3",
   "version": "3.8.5"
  }
 },
 "nbformat": 4,
 "nbformat_minor": 4
}
