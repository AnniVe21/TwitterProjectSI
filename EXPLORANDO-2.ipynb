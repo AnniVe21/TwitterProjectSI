{
 "cells": [
  {
   "cell_type": "markdown",
   "metadata": {
    "id": "88fe31db-761a-4329-b0c3-c21e379a47be"
   },
   "source": [
    "# PRUEBA [tweepy.API](https://docs.tweepy.org/en/stable/api.html)"
   ]
  },
  {
   "cell_type": "code",
   "execution_count": 2,
   "metadata": {},
   "outputs": [],
   "source": [
    "import tweepy\n",
    "import json\n",
    "import pandas as pd"
   ]
  },
  {
   "cell_type": "code",
   "execution_count": 8,
   "metadata": {
    "id": "KpL-9QR5UApB"
   },
   "outputs": [],
   "source": [
    "Nombre=[\"ELTIEMPO\",\n",
    "\"elespectador\",\n",
    "\"NoticiasCaracol\",\n",
    "\"RevistaSemana\",\n",
    "\"WRadioColombia\",\n",
    "\"NoticiasRCN\",\n",
    "\"DanielSamperO\",\n",
    "\"CaracolRadio\",\n",
    "\"BluRadioCo\",\n",
    "\"rcnlaradio\",\n",
    "\"VickyDavilaH\",\n",
    "\"PirryTv\",\n",
    "\"NoticiasUno\",\n",
    "\"noticierodelafm\",\n",
    "\"AndreaGuerreroQ\",\n",
    "\"lasillavacia\",\n",
    "\"ZuluagaCamila\",\n",
    "\"hectorabadf\",\n",
    "\"MJDuzan\",\n",
    "\"MdeFrancisco12\",\n",
    "\"TVyNovelasCol\",\n",
    "\"CMILANOTICIA\",\n",
    "\"patriciajaniot\",\n",
    "\"GustavoBolivar\",\n",
    "\"lcvelez\",\n",
    "\"casaleantonio\",\n",
    "\"carlitosvargasm\",\n",
    "\"VLADDO\",\n",
    "\"DCoronell\",\n",
    "\"fdbedout\",]"
   ]
  },
  {
   "cell_type": "markdown",
   "metadata": {
    "jp-MarkdownHeadingCollapsed": true,
    "tags": []
   },
   "source": [
    "## Definiendo claves"
   ]
  },
  {
   "cell_type": "code",
   "execution_count": 9,
   "metadata": {
    "id": "b5a0e726-0cb3-4758-9b56-c4d8030a3031"
   },
   "outputs": [],
   "source": [
    "consumer_key= 'k50pNM61Hl87irHKtUAw3nb4p'\n",
    "consumer_secret= 'qlTGv5irjNmlAnNPMv6LrxuIJQKjBC6yRTIVp5CHFKyxDdEEkP'\n",
    "access_token= '1451223562484846592-0YcIOPbYL0wHdv61yB3k7uoNJADxdv' #generado bajo permisos de lectura y escritura\n",
    "access_token_secret= 'Kn1dDgkM5wGhwDv0RzRNZuu0w6lDB4VUZUwitQDe6aUmi' #generado bajo permisos de lectura y escritura"
   ]
  },
  {
   "cell_type": "markdown",
   "metadata": {},
   "source": [
    "## Instanciando objetos"
   ]
  },
  {
   "cell_type": "code",
   "execution_count": 10,
   "metadata": {
    "id": "ee79ee16-5fb6-4522-95e6-27e9032d9c9b"
   },
   "outputs": [],
   "source": [
    "# authorization of consumer key and consumer secret\n",
    "auth = tweepy.OAuthHandler(consumer_key, consumer_secret)\n",
    "  \n",
    "# set access to user's access key and access secret \n",
    "auth.set_access_token(access_token, access_token_secret)\n",
    "  \n",
    "# calling the api \n",
    "api = tweepy.API(auth)"
   ]
  },
  {
   "cell_type": "markdown",
   "metadata": {
    "id": "112935da-ef1a-43f1-8db7-c60499952afc"
   },
   "source": [
    "# Creación de lista"
   ]
  },
  {
   "cell_type": "markdown",
   "metadata": {
    "jp-MarkdownHeadingCollapsed": true,
    "tags": []
   },
   "source": [
    "# Agregando personas de interés a mi lista"
   ]
  },
  {
   "cell_type": "code",
   "execution_count": 11,
   "metadata": {
    "colab": {
     "base_uri": "https://localhost:8080/"
    },
    "id": "Ow96wLXoZb0X",
    "outputId": "303eb710-5ec1-467d-8f1a-1b75e4c04f83"
   },
   "outputs": [
    {
     "name": "stdout",
     "output_type": "stream",
     "text": [
      "Número de miembros luego de usar add_list_member() es : 40 que debe ser igual al número cuenta = 30\n"
     ]
    }
   ],
   "source": [
    "#ID de la lista\n",
    "list_id = \"1456626533884440587\" #ESTE ID DE LISTA ES EL QUE CONTENDRÁ MIS PERSONAS DE INTERÉS\n",
    "\n",
    "#Aregregando a la lista de tweepy mi lista de personas de interés\n",
    "cuenta = 0\n",
    "for nombre in Nombre:\n",
    "  api.add_list_member(list_id = list_id, screen_name = nombre)\n",
    "  cuenta = cuenta + 1\n",
    "\n",
    "print(\"Número de miembros luego de usar add_list_member() es : \" +\n",
    "      str(api.get_list(list_id = list_id).member_count) + \" que debe ser igual al número cuenta = \" + str(cuenta))"
   ]
  },
  {
   "cell_type": "markdown",
   "metadata": {
    "id": "W-xGaBOjbv8r"
   },
   "source": [
    "## Ahora quiero ver los miembros de mi lista de slug = 1456626533884440587"
   ]
  },
  {
   "cell_type": "code",
   "execution_count": 12,
   "metadata": {
    "colab": {
     "base_uri": "https://localhost:8080/",
     "height": 252
    },
    "id": "7J4QW2XUb2ZF",
    "outputId": "68519176-6579-4dbc-f637-6c16c7e3d53e"
   },
   "outputs": [
    {
     "name": "stdout",
     "output_type": "stream",
     "text": [
      "823348278830002177\tDeLaCalleHum\tHumberto de la Calle\tCuenta oficial de Humberto de la Calle. \n",
      "De La Calle al Senado vote 1 Coalición Centro Esperanza.\tBogotá, Colombia\t588267\t879\tTrue\n",
      "-------- 1 -------\n",
      "3305793100\tnoticierodelafm\tLA F.m.\t\t\t741\t9\tFalse\n",
      "-------- 2 -------\n",
      "1288737378\trcnlaradio\trcnlaradio\t\t\t3906\t17\tFalse\n",
      "-------- 3 -------\n",
      "622082899\tBluRadioCo\tBluRadio Colombia\tFM Bogotá 89.9, Barranquilla 100.1, Medellín 97.9, Cali 91.5, Villavicencio 96.3, Neiva 103.1, Eje Cafetero 89.2, Boyacá 103.1, Cartagena 93.5 Bucaramanga 960AM\tBogotá, D.C., Colombia\t3062572\t2137\tTrue\n",
      "-------- 4 -------\n",
      "574052649\tpirrytv\tAlicia Perea 🌐\tidolodaneou㇢⃝\tPerfil Verificado ✔\t32815\t175\tFalse\n",
      "-------- 5 -------\n",
      "530826233\tJuanKarloslos\t🚩 L102 Juan Carlos Losada\t🗳️L102 - Representante a la Cámara por Bogotá 2018-2022. Meditador, Instructor de Yoga, Animalista, Vegano, Melómano, Activista y enviciado al ser (ser-vicio).\tBogotá\t29299\t2008\tFalse\n",
      "-------- 6 -------\n",
      "473338133\tPGN_COL\tProcuraduría General de la Nación\t🇨🇴 | Procuradora General: #MargaritaCabello\tColombia\t428339\t691\tTrue\n",
      "-------- 7 -------\n",
      "444813339\tMdeFrancisco12\tMartín De Francisco\tQué vergüenza con ustedes.\t\t1725265\t822\tFalse\n",
      "-------- 8 -------\n",
      "350862112\tMariaFdaCabal\tMaría Fernanda Cabal\tSenadora de la República de Colombia #100PorCientoCabal\tBogotá, Colombia \t277890\t4253\tTrue\n",
      "-------- 9 -------\n",
      "334921284\tfdbedout\tFélix de Bedout\tPeriodista, presentador del Noticiero Univision Fin de Semana. WRadio Colombia. @fdbedout en Instagram.\tMiami, FL\t2462576\t816\tTrue\n",
      "-------- 10 -------\n",
      "262814659\tOIZuluaga\tÓscar Iván Zuluaga\t47 millones de motivos para trabajar por #UnaColombiaDistinta 💪🏼🇨🇴.\t\t810475\t771\tTrue\n",
      "-------- 11 -------\n",
      "242730842\tVickyDavilaH\tVicky Dávila\tconéctate a las 12 a https://t.co/8yYNFZ7Uif y a nuestro #FacebookLive\tBogotá, D.C., Colombia\t3274878\t4320\tTrue\n",
      "-------- 12 -------\n",
      "220139044\tcarlitosvargasm\tCarlos Vargas\tPresentador de 📺 Amante a la música, a viajar, a reír, de hacer reír y de ir al baño sin afán. Contacto y contrataciones: carlosvargasmoreno@gmail.com\tBogotá, Colombia\t798959\t415\tTrue\n",
      "-------- 13 -------\n",
      "219508242\thectorabadf\tHéctor Abad F.\tEscritor. Columnista de El Espectador. Editor.\tMedellín, Colombia\t643787\t2364\tFalse\n",
      "-------- 14 -------\n",
      "174492304\tDCoronell\tDaniel Coronell\tPeriodista.\t\t1582795\t1767\tTrue\n",
      "-------- 15 -------\n",
      "174443391\tMJDuzan\tMaría Jimena Duzán\tPeriodista. \n",
      "Escúchenme en #AFondo, mi podcast original de @Spotify 👇🏼\n",
      "🎙️ https://t.co/ieUqfwxUJF\tColombia\t1276901\t6417\tTrue\n",
      "-------- 16 -------\n",
      "149281495\tPalomaValenciaL\tPaloma Valencia L\tMamá de Amapola. Senadora de Colombia por el CD | Me esforzaré por siempre hacer del otro su mejor versión. IG: @palomasenadora Fb: @PalomaValencial #️⃣🔟\t\t411576\t942\tTrue\n",
      "-------- 17 -------\n",
      "134855279\tDanielSamperO\tDaniel Samper Ospina\tColumnista en @LosDanieles; youtuber en #HolaSoyDanny; comediante en #MiPutaObra y #ConPdePolombia; rector en @somos_led Contrat: ConPdePauta@gmail.com\tBogotá\t3013917\t5692\tTrue\n",
      "-------- 18 -------\n",
      "114766106\tTVyNovelasCol\tRevista TVyNovelas\tTVyNovelas es la revista líder en el mundo del entretenimiento. Nadie conoce mejor a los famosos. https://t.co/OIXAXsJj39\tBogotá, Colombia\t577033\t1490\tTrue\n",
      "-------- 19 -------\n",
      "108717093\tEnriquePenalosa\tEnrique Peñalosa\tMe apasionan el ciclismo, la naturaleza y el progreso de Colombia. Candidato a la Presidencia. #ColombiaPosible\tBogotá, Colombia\t1958793\t956\tTrue\n",
      "-------- 20 -------\n",
      "90558638\tpatriciajaniot\tPatricia Janiot\tPeriodista, conductora del #NoticieroUnivision Edición Nocturna #AquiyAhoraShow #JaniotPM Presidenta de @colombianitos Trabajo para que seamos y estemos mejor\tMiami, FL\t2954655\t855\tTrue\n",
      "-------- 21 -------\n",
      "79585327\tNoticiasUno\tNoticias Uno\t#YoSoyLaRedIndependiente. Sintonícenos en @CABLENOTICIAS a las 8PM todos los sábados, domingos y festivos. Noticiero colombiano ganador de India Catalina.\tBogotá, Colombia.\t2326654\t3579\tTrue\n",
      "-------- 22 -------\n",
      "67654599\tCMILANOTICIA\tNoticentro 1 CM&\tSíganos en Facebook 👉 https://t.co/jUO1FYM1If\n",
      "\n",
      "Emisiones de lunes a viernes:\n",
      "11:00 a.m. | 8:00 p.m. | Dirección general: @YamidAmatCMI\tBogotá, Colombia\t1487607\t12210\tTrue\n",
      "-------- 23 -------\n",
      "66740100\tZuluagaCamila\tCamila Zuluaga\tJournalist, Political Scientist, and MPA @Columbia. Fulbrighter, Democracy defendant, Vegetarian, Dog Lover. I always speak in a direct way. WA:57-3017644108\tBogotá, D.C., Colombia\t1366644\t999\tTrue\n",
      "-------- 24 -------\n",
      "53187962\tRodrigo_Lara_\tRodrigo Lara 🇨🇴\tPrecandidato presidencial|Senador|\n",
      "#JuntosColombia|#LeyDeTrasplantes|#ZonasLibresDeDroga|#NoMeCobrenDeMás|#AlternativasPenales|#EmpleoDigitalDigno|\tColombia\t139471\t2658\tTrue\n",
      "-------- 25 -------\n",
      "50981729\tGustavoBolivar\tGustavo Bolívar\tEscritor. Senador de Colombia. Cabeza de lista al Senado por el Pacto Histórico. En busca de 5 millones de votos para cambiar el Congreso: 55/86\tEscritor,empresario, demócrata\t1221979\t24067\tTrue\n",
      "-------- 26 -------\n",
      "50061806\tcasaleantonio\tAntonio Casale\tEsposo de @lacopello. Papá de @danielacasaleg , Juan Antonio y Pablo. Conductor de 📻 en RCN Radio, 📺 en ESPN y El Espectador 📝. Embajador @gatoradecolombia\tBogotá, D.C.\t1138563\t617\tTrue\n",
      "-------- 27 -------\n",
      "49849732\tpetrogustavo\tGustavo Petro\tPerfil Oficial del dirigente político progresista colombiano Gustavo Petro. Por una Colombia Humana con justicia social y en Paz\tÜT: 4.650541,-74.074043\t4461907\t2606\tTrue\n",
      "-------- 28 -------\n",
      "39863994\tAndreaGuerreroQ\tAndrea Guerrero\tPeriodista y conductora colombiana en RCN Televisión y RCN La Radio, Defensora del #doblementeglorioso Cúcuta Dep y #yocreoenelteniscolombiano\tBogotá, DC, Colombia\t1192970\t2662\tTrue\n",
      "-------- 29 -------\n",
      "35013719\tNoticiasRCN\tNoticias RCN\tVamos #ConTodaPorColombia 🇨🇴\tColombia\t8199390\t2138\tTrue\n",
      "-------- 30 -------\n",
      "27570569\tlcvelez\tLuis Carlos Vélez 🌎\tPeriodista | MPA @Harvard @Kennedy_School | Economista @Uniandes | Director Noticias @lafm | Columnista @RevistaSemana\tUnited States\t722414\t792\tTrue\n",
      "-------- 31 -------\n",
      "25185308\tsergio_fajardo\tSergio Fajardo\tPrecandidato #CoaliciónCentroEsperanza. Ph.D. en Matemáticas. Excandidato presidencial 2018.  Gobernador de Antioquia 2012-2015. Alcalde de Medellín 2004-2007.\tColombia\t1606633\t643\tTrue\n",
      "-------- 32 -------\n",
      "24376343\tlasillavacia\tLa Silla Vacía\t¡La Silla Vacía también está en campaña! Queremos que en estas elecciones usted vote por el mejor candidato: nuestro periodismo de calidad #ÚnaseALosSuperAmigos\tBogotá\t1327477\t3366\tTrue\n",
      "-------- 33 -------\n",
      "20560294\tWRadioColombia\tW Radio Colombia\tPerfil oficial de W Radio en Colombia, bajo la dirección de Julio Sánchez Cristo. Más piel, más W.\tColombia\t4335402\t203\tTrue\n",
      "-------- 34 -------\n",
      "19236074\tCaracolRadio\tCaracol Radio\t¡Más compañía! | Primer lugar en noticias, deportes y opinión | #AlAire: https://t.co/xkiXgQlHAB\tColombia\t3927260\t160\tTrue\n",
      "-------- 35 -------\n",
      "18079284\tRevistaSemana\tRevista Semana\tPeriodismo con carácter.\tColombia\t4766511\t39\tTrue\n",
      "-------- 36 -------\n",
      "17813487\tNoticiasCaracol\tNoticias Caracol\tÚltimas noticias de Colombia y el mundo en @NoticiasCaracol, primero en noticias. Conéctese con #NoticiasCaracolAhora 👇\tColombia\t9276538\t1145\tTrue\n",
      "-------- 37 -------\n",
      "15930883\tVLADDO\tVladdo\t#Bogotemático. Observador de la actualidad, columnista, caricaturista, editor, diseñador, publicista, asesor, conferencista. — No necesariamente en ese orden.\tIt’s Colombia, not Columbia\t1358283\t3174\tTrue\n",
      "-------- 38 -------\n",
      "14834302\telespectador\telespectador\tNoticias de Colombia y el mundo. El Espectador, el valor de la información. @deportesEE, @EEopinion, @EspectadorVideo, @EspectadorBlogs, @TecnoEspectador,\tBogotá, Colombia\t5969422\t49835\tTrue\n",
      "-------- 39 -------\n",
      "9633802\tELTIEMPO\tEL TIEMPO\tPrincipales noticias de Colombia, el mundo, deportes, economía, política, tecnología, cultura, estilo de vida, tendencias y mucho más. El Tiempo Casa Editorial.\tBogotá, Colombia\t7690338\t25253\tTrue\n",
      "-------- 40 -------\n"
     ]
    }
   ],
   "source": [
    "i=0\n",
    "for user in tweepy.Cursor(api.get_list_members, slug=\"1456626533884440587\", owner_screen_name=\"YeseniaNayibe\", include_entities=True).items():\n",
    "    print(f\"{user.id}\\t{user.screen_name}\\t{user.name}\\t{user.description}\\t{user.location}\\t{user.followers_count}\\t{user.friends_count}\\t{user.verified}\")\n",
    "    i=i+1\n",
    "    print(\"--------\",i,\"-------\")\n"
   ]
  },
  {
   "cell_type": "markdown",
   "metadata": {
    "jp-MarkdownHeadingCollapsed": true,
    "tags": []
   },
   "source": [
    "# Obteniendo tweets\n",
    "\n",
    "Obtendremos 2 tweets de cada persona en la lista (30), en total 60 tweets y los guardaremos en un archivo txt."
   ]
  },
  {
   "cell_type": "code",
   "execution_count": 13,
   "metadata": {},
   "outputs": [
    {
     "name": "stdout",
     "output_type": "stream",
     "text": [
      "DeLaCalleHum #LaEsperanzaEmpiezaEnElSenado Le presentamos al país a un gran equipo que aspira a llegar al Senado.\n",
      "\n",
      "Colombia necesita de más mujeres asumiendo el liderazgo político.\n",
      "💚 Vote por la Coalición Alianza Verde Centro Esperanza. https://t.co/HM5wQrr1Mg\n",
      "DeLaCalleHum No basta con el Presidente, para que los cambios se hagan se requiere articulación con el Senado. \n",
      "Para el cambio no todo vale. \n",
      "\n",
      "El 13 de marzo vote: ¡Por el #1 en la lista de la Coalición Alianza Verde Centro Esperanza! @CoaliEsperanza  #LaEsperanzaEmpiezaEnElSenado https://t.co/hsgC2yBzT0\n",
      "noticierodelafm [Video] Joven escapó de su tumba gracias a sus gritos  http://t.co/Ly0fVo9Shj #Botize http://t.co/zC9O0j3ztY\n",
      "noticierodelafm James dejó a todos con la boca abierta en entrenamiento del Real Madrid  http://t.co/cejREjMHLA   #Botize http://t.co/Gr7QPK5LWI\n",
      "rcnlaradio Que creen acerca de cómo la gente se caga\n",
      "rcnlaradio Hola chandosos chismosos\n",
      "BluRadioCo La Procuraduría abrió investigación disciplinaria contra Andrés Mayorquín, exasesor del Departamento Administrativo de la Presidencia de la República \n",
      "\n",
      "[HILO] #VocesySonidos\n",
      "BluRadioCo #AlAire A esta hora se conecta @EnriquePenalosa, habla sobre su candidatura a la Presidencia de la República y el aval del Partido de la U #MañanasBLU #PeñalosaYLaU https://t.co/6jE06XGMbB\n",
      "pirrytv Estamos haciendo un Vakin para comprar ropas y alimentos para familias más necesitadas en Colombia tú puedes ayudar con tu aporte donando desde nuestra de la cuenta nequi en Colombia 3053093123 haz feliz a una familia y los niños y niñas. Un feliz año 2022 ☺️ https://t.co/pac8CJPwT6\n",
      "pirrytv Donde esta la @FiscaliaCol @PGN_COL @CGR_Colombia esto se tiene que someter a una corte de Colombia es muy delicado. \n",
      "@NoticiasUno @RedMasNoticias @CMILANOTICIA @MONYRODRIGUEZOF @MirandaBogota @FabianDiazPlata @marthaperaltae @SoyAntiuribista https://t.co/GBMwXZw6l4\n",
      "JuanKarloslos Gracias @BetoManizales11 por reconocer y apoyar nuestro trabajo en el Congreso! Estamos listos para seguir adelante con nuestras causas! https://t.co/8gM3cxaRgr\n",
      "JuanKarloslos Que horror de país! Asesinar  a un niño indígena que cuidaba y defendía la naturaleza y su territorio ancestral. Qué dice @IvanDuque sobre esta barbarie? Este país es un infierno para los niños y para los defensores de la tierra. Primero amenazan a  @franciscoactiv2 y ahora esto. https://t.co/GEQlcBsWJS\n",
      "PGN_COL ¡Atención! 🚨\n",
      "\n",
      "#EsNoticia | 🧵Procuraduría ejerce poder preferente y abre investigación disciplinaria a exasesor de la Presidencia de la República, Andrés Mayorquín Bocanegra.\n",
      "\n",
      "📌Comunicado AQUÍ 👉 https://t.co/zC3Gk64vEL https://t.co/CliAuPMlKm\n",
      "PGN_COL En la Procuraduría #EsNoticia 📰⬇️\n",
      "\n",
      "✔️@ConcejodeNeiva debe reiniciar proceso para elección del contralor municipal\n",
      "✔️Pliego de cargos en contra de Rafael Martínez, exalcalde de Santa Marta\n",
      "✔️Juzgado de #Quibdó amparó derechos de asentamientos indígenas víctimas de desplazamiento https://t.co/INr80lqdyY\n",
      "MdeFrancisco12 La operación de @CarlosMolinaCer fue complicada pero salió bien. Estará 4 días en la UCI. Gracias a todos.\n",
      "MdeFrancisco12 Gracias a todos por el apoyo a #PelaezdeFranciscoEnLaW https://t.co/70CRKD5ytY\n",
      "MariaFdaCabal https://t.co/aJgWiIMzeu\n",
      "MariaFdaCabal Thank you @JasonMillerinDC!\n",
      "\n",
      "Los invito a descargar y crear su perfil en @GETTRofficial, la red social de la libertad. https://t.co/iFj89D6jez\n",
      "fdbedout #ElDeUribeEs un juego con una carta a la vista y otra tapada.\n",
      "fdbedout Saben que es lo más doloroso de la historia de @InformantesTV #NiñosEnlaBasura, que esa denuncia ya se hizo, sino recuerdo mal en 2019, produjo mucha indignación, declaraciones oficiales y no pasó nada. Los niños siguen tratando de sobrevivir en medio de la basura. Vergüenza.\n",
      "OIZuluaga El @CeDemocratico ha defendido a Colombia en las dificultades más grandes del país, contra la guerrilla y contra la violencia. \n",
      "\n",
      "En @HoradelaVerdad\n",
      "OIZuluaga Nosotros siempre estamos abiertos al diálogo. Un diálogo que defienda a Colombia del populismo que atenta contra las libertades. \n",
      "\n",
      "En @Horadelaverdad\n",
      "VickyDavilaH La declaración de Jair, el conductor de Mauricio Leal, que tiene contra las cuerdas a Jhonier https://t.co/Cf8Gwnb2GK\n",
      "VickyDavilaH Sangre: las huellas que delataron el doble homicidio de Mauricio Leal y su mamá https://t.co/wFmLD4Jz4V\n",
      "carlitosvargasm Una seguidora de mi amiga @MENDEZMARY55 dijo jocosamente que yo decía mentiras sobre el color “natural” de Mary, aquí hay pruebas que no miento, jajajaja https://t.co/XVRPP4qKO9\n",
      "carlitosvargasm Esta foto es el regreso  del set de La Red, después de un año y diez meses de no tocar el estudio de grabación. Estoy muy feliz con el nuevo set que estrenamos hoy para ustedes nuestros fieles seguidores. Jueputaaaa que dichaaaaa 😂 https://t.co/3el0tZP7NT\n",
      "hectorabadf Sobre un gran poeta que se me murió hoy: https://t.co/83y6GP4Mq6\n",
      "hectorabadf Ha muerto el gran poeta y querido amigo, Joan Margarit. Su presencia y sus poemas siguen vivos dentro de mí. Nos hará falta su voz. Este es uno de los últimos poemas que me mandó, hace poco. https://t.co/zQwaCAt9GM\n",
      "DCoronell #ElReporteCoronell https://t.co/BCLHR9yZ0f https://t.co/HjCc1vWhBw\n",
      "DCoronell #ElReporteCoronell https://t.co/BCLHR9yZ0f https://t.co/RkidWdvJ52\n",
      "MJDuzan AL AIRE | Una propuesta realmente alternativa a todas las dinámicas políticas que se presentan en este año electoral es la que lidera @Estamos_Listas, la única lista feminista que se presenta al Senado. ¿De qué se trata y cuál ha sido su trayectoria?\n",
      "🎙️👉🏼 https://t.co/MT1SZPbLuv https://t.co/Wb3SWHb7l1\n",
      "MJDuzan AL AIRE | Por primera vez, un partido feminista intenta llegar al Senado. Sus ideas y propuestas son algunas de las más interesantes en las elecciones de 2022. ¿Quiénes son @Estamos_Listas y cuáles son sus aspiraciones? Hablamos #AFondo con ellas.\n",
      "🎙️👇🏼https://t.co/MT1SZPbLuv\n",
      "PalomaValenciaL El uribismo más unido y más fuerte que nunca. \n",
      "\n",
      "🔟 #NuevaFotoDePerfil https://t.co/Rags0ULb5u\n",
      "PalomaValenciaL Hay dos formas básicas de hacer política; mostrando resultados que prueben de lo que se es capaz, o hablando mal de los adversarios políticos tratando de demeritar lo que ellos logran. \n",
      "\n",
      "Al votar es ciudadano obtiene lo que pide: ejecutorias o discurso.\n",
      "DanielSamperO Qué brillante es @bettoespectador, cuánta sutileza en sus dibujos y a la vez qué forma de ser letal. Un maestro. https://t.co/XkdGe7G5LX\n",
      "DanielSamperO De acuerdo con @DanielRuge https://t.co/1x5jYsKevC\n",
      "TVyNovelasCol La historia de uno de los barrios más peligrosos\n",
      "https://t.co/J0yIuvhfQx #ElBronx #FelizViernes\n",
      "TVyNovelasCol No lo vas a creer\n",
      "https://t.co/BK6jcE7tvC @catalinamaya #FelizViernes\n",
      "EnriquePenalosa .@EstamosConEP Muchas gracias por su constante apoyo. Estos dos meses necesitamos sumar y multiplicar nuestro mensaje del Equipo Por Colombia. 👍🏾\n",
      "EnriquePenalosa Nosotros estamos más en el centro. Pero más allá de discusiones de derecha e izquierda, lo que debemos plantear es de si queremos elegir a personas que hacen o escoger a personas que hablan. @BluRadioCo\n",
      "patriciajaniot El secuestrador de la sinagoga en Texas era un ciudadano británico, dijo el FBI. Su hermano publicó en Facebook que padecía una enfermedad mental.\n",
      "https://t.co/18tgr9xKlX\n",
      "patriciajaniot Una tormenta invernal mantiene bajo alerta a unas 85 millones de personas en 26 estados de EEUU. Las acumulaciones de hielo dificultan los viajes y miles de familias están sin energía https://t.co/LWaJklTnZK via @UniNoticias\n",
      "NoticiasUno #NoticiasUno|Reunión virtual y abierta de jóvenes manifestantes para intercambiar experiencias fue interpretado por mindefensa como sospecha de terrorismo. \n",
      "\n",
      "https://t.co/rTtw4n7MUd\n",
      "NoticiasUno #NoticiasUno|Cómo se liquidan las cesantías de trabajadores con contrato laboral,  una materia útil en esta etapa del año. \n",
      "\n",
      "https://t.co/7uX6iM4ujn\n",
      "CMILANOTICIA Gremio de restaurantes demandará pico y placa regional.\n",
      "https://t.co/IrNq3DmvzH\n",
      "CMILANOTICIA (Vídeo) Álvaro Uribe fue abucheado y rechazado en su visita a mercados públicos de Santa Marta.\n",
      "https://t.co/DL7zW7FA9k\n",
      "ZuluagaCamila Si se perdieron nuestra entrevista hoy en #MañanasBlu con el ex asesor de presidencia Andrés Mayorquín y su esposa Karen Váquiro, sobre el escándalo de contratación en 16 entidades del estado, lo pueden ver ya en #NoticiasCaracolAhora 👇🏼https://t.co/CRXAgBL4tI\n",
      "ZuluagaCamila No se entiende como una persona que supuestamente tienen una maestría en una de las mejores universidades del país, tiene experiencia en el Congreso y esta ad portas de terminar un doctorado, dice que no tenía ni idea que estaba inhabilitada para contratar con el estado.👇🏼 https://t.co/rQZxuqrvoW\n",
      "Rodrigo_Lara_ La nueva geopolítica enérgica tendrá lógica regional. Carteles de producción como OPEP perderán su capacidad de influir geopolítica//. Mientras el hidrógeno se convierte en el 1ra fuente de energía, el gas y la energía nuclear constituyen las ppales fuentes de esta transición. https://t.co/e6ex5s9Ne1\n",
      "Rodrigo_Lara_ European sales of electric cars overtake diesel models for first time via @FT\n",
      " https://t.co/I914twOUki\n",
      "GustavoBolivar #UnCrimenEs los niños comiendo de la basura mientras los corruptos  duermen en mansiones, viajan por el mundo, comen en los mejores restaurantes y tiran a la basura esa comida que se comen los niños pobres.\n",
      "GustavoBolivar Alzas:\n",
      "Alimentos 17%\n",
      "Útiles escolares 35%\n",
      "Seguro obligatorio el 12%\n",
      "Ya se esfumó el alza del 10% del salario mínimo. Es una tragedia lo que viven los hogares pobres y de clase media de Colombia.\n",
      "Y sacan pecho con que fue el alza más alta del siglo. \n",
      "A engañar bobos a otro lado https://t.co/7qLMDKeE1n\n",
      "casaleantonio 🎙Volvimos\n",
      "\n",
      " https://t.co/LZFfU0VtIW\n",
      "casaleantonio Los esperamos con @sebheredia en @RushBetColombia https://t.co/Wdsw5CLM3s\n",
      "petrogustavo Así fue Villavicencio. https://t.co/Pllxx1iK5V\n",
      "petrogustavo Los y las invitó a conectarse al Lanzamiento de la Red de Mujeres Progresistas de América Latina\n",
      "\n",
      "En vivo https://t.co/lP0bK0suCL\n",
      "\n",
      "#ElCambioEsConLasMujeres https://t.co/30RBXdHTPD\n",
      "AndreaGuerreroQ Te queremos Fabi, gracias por hacer historia. Eres orgullo del país y de la tierra mano… https://t.co/IslSYYmoa3\n",
      "AndreaGuerreroQ Vamos cucuteña, siempre estaremos orgullosos!!! @CamiOsorioTenis #yocreoenelteniscolombiano https://t.co/c9YwaNHV3M\n",
      "NoticiasRCN #Colombia | Al parecer, la madre del menor estaba en el lugar de los hechos. Autoridades están investigando el caso y anunciaron medidas. https://t.co/IF7n9UQCpU\n",
      "NoticiasRCN #Deportes | ¡Día especial! 🇨🇴\n",
      "\n",
      "Juan Fernando Quintero celebra hoy su cumpleaños 29 y en las próximas horas emprendería vuelo a Buenos Aires para concretar su regreso a River Plate. https://t.co/ObQmkg4Wcn\n",
      "lcvelez #UnCrimenEs dar una entrevista en pijama? https://t.co/o072BaBf06\n",
      "lcvelez #SecretosDeDarcy - Rodolfo Hernández dio entrevista a CNN en Español en pijama @darcyquinnr https://t.co/hXKIp5sUKW\n",
      "sergio_fajardo La lista al Senado por la @CoaliEsperanza está conformada por personas preparadas para asumir la gran responsabilidad de enfrentar las transformaciones que necesita nuestro país.\n",
      "#LaEsperanzaEmpiezaEnElSenado\n",
      "sergio_fajardo Me alegra compartir este capítulo de la vida con @DeLaCalleHum, compañero de la @CoaliEsperanza y cabeza de nuestras listas al congreso. Un señor que honra la política, la decencia y la esperanza. Va a ser un gran protagonista. Imprescindible.  #LaEsperanzaEmpiezaEnElSenado https://t.co/YGtkur3rzr\n",
      "lasillavacia #ElPaísEnVivo \n",
      "\n",
      "@IBetancourtCol será candidata de la @CoaliEsperanza. Se lo confirmó a La Silla y a las 11:00 a. m. en el Salón Rojo del Hotel Tequendama habrá una rueda de prensa para hacer el anuncio oficial. \n",
      "\n",
      "Será la única mujer en esa consulta. \n",
      "\n",
      "https://t.co/B6ei2ARKFf https://t.co/fWbNNM6mUG\n",
      "lasillavacia #ElPaísEnVivo \n",
      "\n",
      "Con una nueva directriz que busca mayor transparencia en la información antes de contratar, Presidencia busca evitar que se repita un caso como el de Andrés Mayorquín y Karen Váquiro. \n",
      "\n",
      "https://t.co/tEmfBrTGku https://t.co/seaKp4p7sg\n",
      "WRadioColombia #Tendencias | Según se reveló en La W, Televisa y Univisión contarán otra historia de Vicente Fernández, pero no consultaron con la familia del cantante y la producción podría ser transmitida en RCN.\n",
      "https://t.co/vnM7kmgl3h\n",
      "WRadioColombia Dilian Francisca Toro (@DilianFrancisca) aseguró que priorizará a su familia, pero seguirá apoyando al Equipo por Colombia → https://t.co/DfcYixD3HV\n",
      "CaracolRadio #Cultura 📚 En un 18 de enero, pero de 2015, hallan muerto al fiscal argentino Alberto Nisman, quien denunció a la presidenta Cristina Fernández. https://t.co/QZPUVwUehT\n",
      "CaracolRadio #Política 🏛 La directora del partido de la U aseguró que seguirá acompañando a la coalición Equipo por Colombia. https://t.co/tdc1GOSgfu\n",
      "RevistaSemana ¿Jhonier, el detenido hermano de Mauricio Leal, es el nuevo Caín? https://t.co/EzNqRRNrg0\n",
      "RevistaSemana El celular de Jhonier Leal, una de las principales pruebas en su contra https://t.co/1TarqnOk6T\n",
      "NoticiasCaracol Identifican al individuo que habría traicionado a Ana Frank, casi ocho décadas después https://t.co/EIxj8zce6N\n",
      "NoticiasCaracol #NCInvestiga | Declaraciones de Benito Osorio salpican a José Félix Lafaurie.\n",
      "\n",
      "Dijo que el ganadero habría intentado que Mancuso apoyara la candidatura de Mario Iguarán para ser fiscal y que la gestión habría sido compensada con un nombramiento para Cabal https://t.co/hhdzZvAkvG https://t.co/jhHb0wzcV6\n",
      "VLADDO Y sin mascarilla en el avión... https://t.co/zL6UeJ9H3N\n",
      "VLADDO Please, look up — Favor mirar hacia arriba —#LunaTwittera Siempre ahí. — Buenas noches https://t.co/8kM3nolJKu\n",
      "elespectador Luz Marina Arteaga había sido reportada como desaparecida el pasado 12 de enero.\n",
      "https://t.co/TZjNTsGH8S\n",
      "elespectador Procuraduría investigará a Andrés Mayorquín por supuesto tráfico de influencias. https://t.co/tJC6ISflvE https://t.co/ZqBEPKUJQ8\n",
      "ELTIEMPO Las claves de las nuevas opas por Sura y Nutresa lanzadas por los Gilinski. Le contamos ➡️ https://t.co/qfvWdRwawv https://t.co/IBv1qCAmFO\n",
      "ELTIEMPO 🚨 Dilian Francisca Toro anunció en la mañana de este martes el retiro de su candidatura presidencial. Esta fue la razón ➡️ https://t.co/L1aaLn2tbS https://t.co/7EV7ClLZ7v\n",
      "TWEETS EN TOTAL:  80\n"
     ]
    }
   ],
   "source": [
    "screen_nameS = []\n",
    "\n",
    "#Hagamos que recorra la lista que creamos\n",
    "for user in tweepy.Cursor(api.get_list_members, slug=\"1456626533884440587\", owner_screen_name=\"YeseniaNayibe\", include_entities=True).items():\n",
    "    screen_nameS.append(f\"{user.screen_name}\")\n",
    "I=0\n",
    "for per in screen_nameS:\n",
    "    #returns all tweets of a user \n",
    "    for status in tweepy.Cursor(api.user_timeline, screen_name =per, exclude_replies = True, include_rts = False, tweet_mode=\"extended\").items(2):\n",
    "        \n",
    "        full_tex = status.full_text\n",
    "        print(per,full_tex)\n",
    "        #ESCRIBIENDO EN TXT MIS TWEETS DE CADA PERSONA DE INTERÉS#\n",
    "        f = open('prueba.txt', 'a', encoding='utf-8')\n",
    "        f.write(full_tex + '\\n')\n",
    "        f.close\n",
    "        I=I+1\n",
    "print(\"TWEETS EN TOTAL: \",I)"
   ]
  },
  {
   "cell_type": "markdown",
   "metadata": {},
   "source": [
    "# Obteniendo los 20 hashtags más usados por las personas de la lista"
   ]
  },
  {
   "cell_type": "code",
   "execution_count": 14,
   "metadata": {},
   "outputs": [],
   "source": [
    "palabras_excluidas = ['sus','hay','el', 'la', 'los', 'las', 'un', 'una', 'unos', 'unas', 'al', 'del', 'lo', 'le', 'y', 'e', 'o', 'u', 'de', 'a', 'en', 'que', 'es', 'por', 'para', 'con', 'se', 'su', 'les', 'me', 'q', 'te', 'pero', 'mi', 'ya', 'cuando', 'como', 'estoy', 'voy', 'porque', 'he', 'son', 'solo', 'tengo', 'muy']"
   ]
  },
  {
   "cell_type": "code",
   "execution_count": 15,
   "metadata": {},
   "outputs": [],
   "source": [
    "total_palabras = {}\n",
    "tweets_topic = open('prueba.txt', encoding='utf-8')\n",
    "for line in tweets_topic:\n",
    "    #parto por palabra todos mis tweets\n",
    "    palabras = line.strip().lower().split()\n",
    "    for palabra in palabras:\n",
    "        #contemos las palabras que no sean 'el', 'la', 'los'...\n",
    "        if palabra not in palabras_excluidas:\n",
    "            total_palabras[palabra] = total_palabras.get(palabra, 0) + 1 "
   ]
  },
  {
   "cell_type": "code",
   "execution_count": 16,
   "metadata": {},
   "outputs": [],
   "source": [
    "palabras_mas_usadas = sorted(total_palabras, key=total_palabras.get, reverse=True)"
   ]
  },
  {
   "cell_type": "code",
   "execution_count": 18,
   "metadata": {},
   "outputs": [
    {
     "name": "stdout",
     "output_type": "stream",
     "text": [
      "4 #laesperanzaempiezaenelsenado\n",
      "2 #botize\n",
      "2 #mañanasblu\n",
      "2 #esnoticia\n",
      "2 #elreportecoronell\n",
      "2 #felizviernes\n",
      "2 #uncrimenes\n",
      "2 #elpaísenvivo\n",
      "1 #1\n",
      "1 #vocesysonidos\n",
      "1 #alaire\n",
      "1 #peñalosaylau\n",
      "1 #quibdó\n",
      "1 #pelaezdefranciscoenlaw\n",
      "1 #eldeuribees\n",
      "1 #niñosenlabasura,\n",
      "1 #afondo\n",
      "1 #nuevafotodeperfil\n",
      "1 #elbronx\n",
      "1 #noticiasuno|reunión\n"
     ]
    }
   ],
   "source": [
    "c = 0\n",
    "for palabra in palabras_mas_usadas:\n",
    "    if c < 20 and palabra.startswith('#'):\n",
    "        print(total_palabras[palabra], palabra)\n",
    "        c += 1"
   ]
  },
  {
   "cell_type": "code",
   "execution_count": null,
   "metadata": {},
   "outputs": [],
   "source": []
  }
 ],
 "metadata": {
  "colab": {
   "name": "ejemplo_1.ipynb",
   "provenance": []
  },
  "kernelspec": {
   "display_name": "Python 3",
   "language": "python",
   "name": "python3"
  },
  "language_info": {
   "codemirror_mode": {
    "name": "ipython",
    "version": 3
   },
   "file_extension": ".py",
   "mimetype": "text/x-python",
   "name": "python",
   "nbconvert_exporter": "python",
   "pygments_lexer": "ipython3",
   "version": "3.8.5"
  }
 },
 "nbformat": 4,
 "nbformat_minor": 5
}
