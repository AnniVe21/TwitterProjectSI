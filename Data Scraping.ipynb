{
 "cells": [
  {
   "cell_type": "markdown",
   "id": "78ecfc16-3fe5-429c-8088-54d902f030b7",
   "metadata": {},
   "source": [
    "# Proyecto sistemas de Información  script twitter API"
   ]
  },
  {
   "cell_type": "markdown",
   "id": "88b91030-aba5-480a-87a0-68af47e65b95",
   "metadata": {},
   "source": [
    "## Librerías"
   ]
  },
  {
   "cell_type": "code",
   "execution_count": 12,
   "id": "c26168f6-e4bd-4362-baa5-48465e02cc1f",
   "metadata": {},
   "outputs": [],
   "source": [
    "import tweepy\n",
    "import json\n",
    "import mysql.connector\n",
    "import pandas as pd"
   ]
  },
  {
   "cell_type": "markdown",
   "id": "6646065f-3fb0-44a2-bde3-809c42ecf604",
   "metadata": {},
   "source": [
    "## Cuentas a usar (20 cuentas más seguidas en colombia)"
   ]
  },
  {
   "cell_type": "code",
   "execution_count": 82,
   "id": "dd9ab60e-4966-4c70-8e98-570fac921e27",
   "metadata": {},
   "outputs": [],
   "source": [
    "lista=[\"ELTIEMPO\",\n",
    "\"elespectador\",\n",
    "\"NoticiasCaracol\",\n",
    "\"RevistaSemana\",\n",
    "\"WRadioColombia\",\n",
    "\"NoticiasRCN\",\n",
    "\"DanielSamperO\",\n",
    "\"CaracolRadio\",\n",
    "\"BluRadioCo\",\n",
    "\"rcnlaradio\",\n",
    "\"VickyDavilaH\",\n",
    "\"PirryTv\",\n",
    "\"NoticiasUno\",\n",
    "\"noticierodelafm\",\n",
    "\"AndreaGuerreroQ\",\n",
    "\"lasillavacia\",\n",
    "\"ZuluagaCamila\",\n",
    "\"hectorabadf\",\n",
    "\"MJDuzan\",\n",
    "\"MdeFrancisco12\",\n",
    "\"TVyNovelasCol\",\n",
    "\"CMILANOTICIA\",\n",
    "\"patriciajaniot\",\n",
    "\"GustavoBolivar\",\n",
    "\"lcvelez\",\n",
    "\"casaleantonio\",\n",
    "\"carlitosvargasm\",\n",
    "\"VLADDO\",\n",
    "\"DCoronell\",\n",
    "\"fdbedout\",]"
   ]
  },
  {
   "cell_type": "markdown",
   "id": "4a9c2c12-7c54-4914-8435-c068cae9a26b",
   "metadata": {},
   "source": [
    "# keys"
   ]
  },
  {
   "cell_type": "code",
   "execution_count": 8,
   "id": "2f0ccb2a-f1fd-4b0d-9ec6-43e89d14adec",
   "metadata": {},
   "outputs": [],
   "source": [
    "consumer_key= 'k50pNM61Hl87irHKtUAw3nb4p'\n",
    "consumer_secret= 'qlTGv5irjNmlAnNPMv6LrxuIJQKjBC6yRTIVp5CHFKyxDdEEkP'\n",
    "access_token= '1451223562484846592-0YcIOPbYL0wHdv61yB3k7uoNJADxdv' #generado bajo permisos de lectura y escritura\n",
    "access_token_secret= 'Kn1dDgkM5wGhwDv0RzRNZuu0w6lDB4VUZUwitQDe6aUmi' #generado bajo permisos de lectura y escritura"
   ]
  },
  {
   "cell_type": "code",
   "execution_count": 80,
   "id": "e37a4a62-fa2c-4632-b5f0-25f718b9398b",
   "metadata": {},
   "outputs": [],
   "source": [
    "auth = tweepy.OAuthHandler(consumer_key, consumer_secret)\n",
    "  \n",
    "auth.set_access_token(access_token, access_token_secret)\n",
    "  \n",
    "api = tweepy.API(auth)"
   ]
  },
  {
   "cell_type": "code",
   "execution_count": null,
   "id": "86bb23ed-cdae-4ded-8ab7-5e20b0adc136",
   "metadata": {},
   "outputs": [],
   "source": [
    "bearer='AAAAAAAAAAAAAAAAAAAAAIgLVAEAAAAAi7rb4BHzU3MfEueuyvQRZzudsyI%3DOmkSEzTDfWbpgs9EJNXJDTtwWuKv2JV5bR9W5aqz1JQJwAOsf5'"
   ]
  },
  {
   "cell_type": "markdown",
   "id": "7f842257-348f-4906-a4a6-a4109ffbfeb6",
   "metadata": {},
   "source": [
    "# script"
   ]
  },
  {
   "cell_type": "markdown",
   "id": "cbf2190c-074b-4429-8db8-f1fb6271267e",
   "metadata": {},
   "source": [
    "Saquemos 2 tweets de cada cuenta"
   ]
  },
  {
   "cell_type": "code",
   "execution_count": 85,
   "id": "de8892e1-8a27-4fbf-b27a-2542109db9e9",
   "metadata": {},
   "outputs": [
    {
     "name": "stdout",
     "output_type": "stream",
     "text": [
      "ELTIEMPO\n",
      "elespectador\n",
      "NoticiasCaracol\n",
      "RevistaSemana\n",
      "WRadioColombia\n",
      "NoticiasRCN\n",
      "DanielSamperO\n",
      "CaracolRadio\n",
      "BluRadioCo\n",
      "rcnlaradio\n",
      "VickyDavilaH\n",
      "PirryTv\n",
      "NoticiasUno\n",
      "noticierodelafm\n",
      "AndreaGuerreroQ\n",
      "lasillavacia\n",
      "ZuluagaCamila\n",
      "hectorabadf\n",
      "MJDuzan\n",
      "MdeFrancisco12\n",
      "TVyNovelasCol\n",
      "CMILANOTICIA\n",
      "patriciajaniot\n",
      "GustavoBolivar\n",
      "lcvelez\n",
      "casaleantonio\n",
      "carlitosvargasm\n",
      "VLADDO\n",
      "DCoronell\n",
      "fdbedout\n"
     ]
    }
   ],
   "source": [
    "simple_list = []\n",
    "for cuenta in lista:\n",
    "    a=cuenta\n",
    "    print(a)\n",
    "    for status in tweepy.Cursor(api.user_timeline, screen_name=a, exclude_replies = True, include_rts = False, tweet_mode=\"extended\").items(100):\n",
    "        \n",
    "        simple_list.append([status.user.id, a , status.user.verified , status.user.followers_count , status.user.friends_count , status.user.statuses_count , status.user.description ,status.user.location , status.id , status.full_text, status.created_at, status.favorite_count, status.retweet_count, [h[\"text\"] for h in status.entities[\"hashtags\"]]])\n",
    "\n",
    "simple_list = pd.DataFrame(simple_list, columns=[\"user ID\",\"user\", \"verificado?\" , \"Num followers\", \"Num followees\" ,\"Num de twets y retweets\" , \"descripcion de usuario\" , \"location\" , \"tweet id\" , \"Text\", \"Created at\", \"Likes\", \"Retweets\", \"Hashtags\"])\n",
    "\n",
    "\n",
    "\n"
   ]
  },
  {
   "cell_type": "code",
   "execution_count": 86,
   "id": "c44cc1f6-5ab0-456b-9c79-d1e3884be9a0",
   "metadata": {},
   "outputs": [
    {
     "name": "stdout",
     "output_type": "stream",
     "text": [
      "        user ID      user  verificado?  Num followers  Num followees  \\\n",
      "0       9633802  ELTIEMPO         True        7689662          25252   \n",
      "1       9633802  ELTIEMPO         True        7689662          25252   \n",
      "2       9633802  ELTIEMPO         True        7689662          25252   \n",
      "3       9633802  ELTIEMPO         True        7689662          25252   \n",
      "4       9633802  ELTIEMPO         True        7689662          25252   \n",
      "...         ...       ...          ...            ...            ...   \n",
      "2835  334921284  fdbedout         True        2462410            816   \n",
      "2836  334921284  fdbedout         True        2462410            816   \n",
      "2837  334921284  fdbedout         True        2462410            816   \n",
      "2838  334921284  fdbedout         True        2462410            816   \n",
      "2839  334921284  fdbedout         True        2462410            816   \n",
      "\n",
      "      Num de twets y retweets  \\\n",
      "0                      637471   \n",
      "1                      637471   \n",
      "2                      637471   \n",
      "3                      637471   \n",
      "4                      637471   \n",
      "...                       ...   \n",
      "2835                    41473   \n",
      "2836                    41473   \n",
      "2837                    41473   \n",
      "2838                    41473   \n",
      "2839                    41473   \n",
      "\n",
      "                                 descripcion de usuario          location  \\\n",
      "0     Principales noticias de Colombia, el mundo, de...  Bogotá, Colombia   \n",
      "1     Principales noticias de Colombia, el mundo, de...  Bogotá, Colombia   \n",
      "2     Principales noticias de Colombia, el mundo, de...  Bogotá, Colombia   \n",
      "3     Principales noticias de Colombia, el mundo, de...  Bogotá, Colombia   \n",
      "4     Principales noticias de Colombia, el mundo, de...  Bogotá, Colombia   \n",
      "...                                                 ...               ...   \n",
      "2835  Periodista, presentador del Noticiero Univisio...         Miami, FL   \n",
      "2836  Periodista, presentador del Noticiero Univisio...         Miami, FL   \n",
      "2837  Periodista, presentador del Noticiero Univisio...         Miami, FL   \n",
      "2838  Periodista, presentador del Noticiero Univisio...         Miami, FL   \n",
      "2839  Periodista, presentador del Noticiero Univisio...         Miami, FL   \n",
      "\n",
      "                 tweet id                                               Text  \\\n",
      "0     1483234667767775233  🔴 Polémica por vallas de Katherine Miranda usa...   \n",
      "1     1483231477722664963  🔴⚠️ No vacunados tienen 9 veces más riesgo de ...   \n",
      "2     1483229007756029955  🔴 Una mujer persiguió a un ladrón que le inten...   \n",
      "3     1483226590804852742  Profesor de matemáticas tiene que pararse en s...   \n",
      "4     1483224588993581058  Giovanni Hernández: confesó los duros momentos...   \n",
      "...                   ...                                                ...   \n",
      "2835  1467916621608017931  Ha pasado desapercibida una gran noticia futbo...   \n",
      "2836  1467891120608792576        #SiempreHayUnTrino. https://t.co/Gh9MCzKIrm   \n",
      "2837  1467858865672835072  Sobre Invamer: Falta mucho camino todavía, per...   \n",
      "2838  1467853640836730880  Gracias @YolandaRuizCe por tu trabajo, harás f...   \n",
      "2839  1467707442494676999  Algo interesante en la elección de los #Consej...   \n",
      "\n",
      "                    Created at  Likes  Retweets  \\\n",
      "0    2022-01-18 00:27:56+00:00    230        23   \n",
      "1    2022-01-18 00:15:16+00:00     23        16   \n",
      "2    2022-01-18 00:05:27+00:00     20         4   \n",
      "3    2022-01-17 23:55:50+00:00     50        27   \n",
      "4    2022-01-17 23:47:53+00:00     18         4   \n",
      "...                        ...    ...       ...   \n",
      "2835 2021-12-06 17:59:29+00:00    331        40   \n",
      "2836 2021-12-06 16:18:09+00:00   4353      1236   \n",
      "2837 2021-12-06 14:09:59+00:00   2902       489   \n",
      "2838 2021-12-06 13:49:14+00:00    535        67   \n",
      "2839 2021-12-06 04:08:17+00:00    872       190   \n",
      "\n",
      "                             Hashtags  \n",
      "0                                  []  \n",
      "1                                  []  \n",
      "2                                  []  \n",
      "3                                  []  \n",
      "4                                  []  \n",
      "...                               ...  \n",
      "2835  [ChacoForEver, PrimeraNacional]  \n",
      "2836              [SiempreHayUnTrino]  \n",
      "2837                               []  \n",
      "2838                               []  \n",
      "2839             [ConsejosDeJuventud]  \n",
      "\n",
      "[2840 rows x 14 columns]\n"
     ]
    }
   ],
   "source": [
    "print(simple_list)"
   ]
  },
  {
   "cell_type": "code",
   "execution_count": null,
   "id": "a2100a72-e232-4f9f-9a32-3328cef59e56",
   "metadata": {},
   "outputs": [],
   "source": []
  }
 ],
 "metadata": {
  "kernelspec": {
   "display_name": "Python 3 (ipykernel)",
   "language": "python",
   "name": "python3"
  },
  "language_info": {
   "codemirror_mode": {
    "name": "ipython",
    "version": 3
   },
   "file_extension": ".py",
   "mimetype": "text/x-python",
   "name": "python",
   "nbconvert_exporter": "python",
   "pygments_lexer": "ipython3",
   "version": "3.8.8"
  }
 },
 "nbformat": 4,
 "nbformat_minor": 5
}
