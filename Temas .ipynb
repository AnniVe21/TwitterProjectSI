{
 "cells": [
  {
   "cell_type": "markdown",
   "metadata": {
    "id": "wh6_qLY8Lcy9"
   },
   "source": [
    "# Saquemos temas de tweets"
   ]
  },
  {
   "cell_type": "code",
   "execution_count": 1,
   "metadata": {
    "colab": {
     "base_uri": "https://localhost:8080/"
    },
    "id": "1iKqbHHxK-W4",
    "outputId": "b3379e37-83af-4fa9-c9f7-f5104a55e6d6"
   },
   "outputs": [
    {
     "name": "stderr",
     "output_type": "stream",
     "text": [
      "[nltk_data] Downloading package wordnet to\n",
      "[nltk_data]     C:\\Users\\rinco\\AppData\\Roaming\\nltk_data...\n",
      "[nltk_data]   Package wordnet is already up-to-date!\n"
     ]
    },
    {
     "data": {
      "text/plain": [
       "True"
      ]
     },
     "execution_count": 1,
     "metadata": {},
     "output_type": "execute_result"
    }
   ],
   "source": [
    "import gensim\n",
    "from gensim.utils import simple_preprocess\n",
    "from gensim.parsing.preprocessing import STOPWORDS\n",
    "from nltk.stem import WordNetLemmatizer, SnowballStemmer\n",
    "from nltk.stem.porter import *\n",
    "import numpy as np\n",
    "np.random.seed(2018)\n",
    "import nltk\n",
    "nltk.download('wordnet')"
   ]
  },
  {
   "cell_type": "markdown",
   "metadata": {
    "id": "RjvMSXFCPTSl"
   },
   "source": [
    "Función que lematiza y hace el preprocesamintos del conjunto de datos:"
   ]
  },
  {
   "cell_type": "code",
   "execution_count": 2,
   "metadata": {
    "id": "On5B2tdPPS4K"
   },
   "outputs": [],
   "source": [
    "from nltk.stem import PorterStemmer \n",
    "\n",
    "def lemmatize_stemming(text):\n",
    "    ps = PorterStemmer()\n",
    "    return ps.stem(WordNetLemmatizer().lemmatize(text, pos='v'))\n",
    "\n",
    "def preprocess(text):\n",
    "    result = []\n",
    "    for token in gensim.utils.simple_preprocess(text): #  gensim.utils.simple_preprocess tokeniza el texto\n",
    "        if token not in gensim.parsing.preprocessing.STOPWORDS and len(token) > 3:\n",
    "            result.append(lemmatize_stemming(token))\n",
    "    return result"
   ]
  },
  {
   "cell_type": "code",
   "execution_count": 42,
   "metadata": {
    "colab": {
     "base_uri": "https://localhost:8080/",
     "height": 582
    },
    "id": "yH6X_MxhRo5d",
    "outputId": "e40f641d-3fdb-4000-c1c8-7f6206536973"
   },
   "outputs": [
    {
     "name": "stderr",
     "output_type": "stream",
     "text": [
      "<ipython-input-42-6fd6b18b14fe>:4: SettingWithCopyWarning: \n",
      "A value is trying to be set on a copy of a slice from a DataFrame.\n",
      "Try using .loc[row_indexer,col_indexer] = value instead\n",
      "\n",
      "See the caveats in the documentation: https://pandas.pydata.org/pandas-docs/stable/user_guide/indexing.html#returning-a-view-versus-a-copy\n",
      "  data_text['index']=data_text.index\n"
     ]
    }
   ],
   "source": [
    "import pandas as pd\n",
    "data = pd.read_csv('Tweetstr.csv', error_bad_lines=False);\n",
    "data_text = data[['Tweet']]\n",
    "data_text['index']=data_text.index\n",
    "documents = data_text"
   ]
  },
  {
   "cell_type": "code",
   "execution_count": 43,
   "metadata": {},
   "outputs": [
    {
     "data": {
      "text/html": [
       "<div>\n",
       "<style scoped>\n",
       "    .dataframe tbody tr th:only-of-type {\n",
       "        vertical-align: middle;\n",
       "    }\n",
       "\n",
       "    .dataframe tbody tr th {\n",
       "        vertical-align: top;\n",
       "    }\n",
       "\n",
       "    .dataframe thead th {\n",
       "        text-align: right;\n",
       "    }\n",
       "</style>\n",
       "<table border=\"1\" class=\"dataframe\">\n",
       "  <thead>\n",
       "    <tr style=\"text-align: right;\">\n",
       "      <th></th>\n",
       "      <th>Tweet</th>\n",
       "      <th>index</th>\n",
       "    </tr>\n",
       "  </thead>\n",
       "  <tbody>\n",
       "    <tr>\n",
       "      <th>0</th>\n",
       "      <td>{'translation_text': 'Gustavo Petro gives his ...</td>\n",
       "      <td>0</td>\n",
       "    </tr>\n",
       "    <tr>\n",
       "      <th>1</th>\n",
       "      <td>{'translation_text': 'The people where they pu...</td>\n",
       "      <td>1</td>\n",
       "    </tr>\n",
       "    <tr>\n",
       "      <th>2</th>\n",
       "      <td>{'translation_text': 'What is behind the winte...</td>\n",
       "      <td>2</td>\n",
       "    </tr>\n",
       "    <tr>\n",
       "      <th>3</th>\n",
       "      <td>{'translation_text': 'This is the map of areas...</td>\n",
       "      <td>3</td>\n",
       "    </tr>\n",
       "    <tr>\n",
       "      <th>4</th>\n",
       "      <td>{'translation_text': '‘The Democratic Center w...</td>\n",
       "      <td>4</td>\n",
       "    </tr>\n",
       "    <tr>\n",
       "      <th>...</th>\n",
       "      <td>...</td>\n",
       "      <td>...</td>\n",
       "    </tr>\n",
       "    <tr>\n",
       "      <th>2835</th>\n",
       "      <td>{'translation_text': 'Direct hiring in Casa de...</td>\n",
       "      <td>2835</td>\n",
       "    </tr>\n",
       "    <tr>\n",
       "      <th>2836</th>\n",
       "      <td>{'translation_text': 'Another scandal in Casa ...</td>\n",
       "      <td>2836</td>\n",
       "    </tr>\n",
       "    <tr>\n",
       "      <th>2837</th>\n",
       "      <td>{'translation_text': 'This trailer impacts as ...</td>\n",
       "      <td>2837</td>\n",
       "    </tr>\n",
       "    <tr>\n",
       "      <th>2838</th>\n",
       "      <td>{'translation_text': '#InColombiaTheChurchesTh...</td>\n",
       "      <td>2838</td>\n",
       "    </tr>\n",
       "    <tr>\n",
       "      <th>2839</th>\n",
       "      <td>{'translation_text': 'Says María Paula Correa ...</td>\n",
       "      <td>2839</td>\n",
       "    </tr>\n",
       "  </tbody>\n",
       "</table>\n",
       "<p>2840 rows × 2 columns</p>\n",
       "</div>"
      ],
      "text/plain": [
       "                                                  Tweet  index\n",
       "0     {'translation_text': 'Gustavo Petro gives his ...      0\n",
       "1     {'translation_text': 'The people where they pu...      1\n",
       "2     {'translation_text': 'What is behind the winte...      2\n",
       "3     {'translation_text': 'This is the map of areas...      3\n",
       "4     {'translation_text': '‘The Democratic Center w...      4\n",
       "...                                                 ...    ...\n",
       "2835  {'translation_text': 'Direct hiring in Casa de...   2835\n",
       "2836  {'translation_text': 'Another scandal in Casa ...   2836\n",
       "2837  {'translation_text': 'This trailer impacts as ...   2837\n",
       "2838  {'translation_text': '#InColombiaTheChurchesTh...   2838\n",
       "2839  {'translation_text': 'Says María Paula Correa ...   2839\n",
       "\n",
       "[2840 rows x 2 columns]"
      ]
     },
     "execution_count": 43,
     "metadata": {},
     "output_type": "execute_result"
    }
   ],
   "source": [
    "documents"
   ]
  },
  {
   "cell_type": "code",
   "execution_count": 44,
   "metadata": {},
   "outputs": [
    {
     "name": "stdout",
     "output_type": "stream",
     "text": [
      "2840\n",
      "                                               Tweet  index\n",
      "0  {'translation_text': 'Gustavo Petro gives his ...      0\n",
      "1  {'translation_text': 'The people where they pu...      1\n",
      "2  {'translation_text': 'What is behind the winte...      2\n",
      "3  {'translation_text': 'This is the map of areas...      3\n",
      "4  {'translation_text': '‘The Democratic Center w...      4\n"
     ]
    }
   ],
   "source": [
    "print(len(documents))\n",
    "print(documents[:5])"
   ]
  },
  {
   "cell_type": "code",
   "execution_count": 47,
   "metadata": {},
   "outputs": [
    {
     "name": "stdout",
     "output_type": "stream",
     "text": [
      "documento original: \n",
      "[\"{'translation_text':\", \"'Says\", 'María', 'Paula', 'Correa', 'that', 'she', 'was', '“assaulted', 'in', 'her', 'good', 'faith,”', 'those', 'who', 'are', 'assaulted', 'in', 'our', 'good', 'faith', 'are', 'Colombians,', 'every', \"day.'}\"]\n",
      "\n",
      "\n",
      " documento tokenizado y lematizado: \n",
      "['say', 'maría', 'paula', 'correa', 'assault', 'good', 'faith', 'assault', 'good', 'faith', 'colombian']\n"
     ]
    }
   ],
   "source": [
    "doc_sample = documents[documents['index'] == 2839].values[0][0]\n",
    "print('documento original: ')\n",
    "words = []\n",
    "for word in doc_sample.split(' '):\n",
    "    words.append(word)\n",
    "print(words)\n",
    "print('\\n\\n documento tokenizado y lematizado: ')\n",
    "print(preprocess(doc_sample))"
   ]
  },
  {
   "cell_type": "code",
   "execution_count": 20,
   "metadata": {},
   "outputs": [
    {
     "data": {
      "text/plain": [
       "0    [gustavo, petro, give, version, past, drink, s...\n",
       "1    [peopl, rarest, name, world, newborn, http, ci...\n",
       "2    [winter, tragedi, leav, dead, risaralda, tell,...\n",
       "3    [area, risk, elector, campaign, http, pvfejcjq...\n",
       "4    [democrat, center, walk, like, crazi, iron, ci...\n",
       "5    [author, dosquebrada, declar, public, calam, s...\n",
       "6    [cartoon, matador, wednesday, entitl, need, su...\n",
       "7    [discoveri, steal, motorcycl, dismantl, entir,...\n",
       "8    [costochondr, pain, symptom, covid, infect, ht...\n",
       "9    [pereira, stori, hear, midst, relief, agenc, c...\n",
       "Name: Tweet, dtype: object"
      ]
     },
     "execution_count": 20,
     "metadata": {},
     "output_type": "execute_result"
    }
   ],
   "source": [
    "processed_docs = documents['Tweet'].map(preprocess)\n",
    "processed_docs[:10]"
   ]
  },
  {
   "cell_type": "code",
   "execution_count": 13,
   "metadata": {
    "colab": {
     "base_uri": "https://localhost:8080/",
     "height": 460
    },
    "id": "GCHMCPSMRA0q",
    "outputId": "774f4f39-fe9c-49a4-9f2d-d3f8a14f493b"
   },
   "outputs": [
    {
     "name": "stdout",
     "output_type": "stream",
     "text": [
      "0 dgmnjt\n",
      "1 drink\n",
      "2 girardot\n",
      "3 give\n",
      "4 gustavo\n",
      "5 http\n",
      "6 past\n",
      "7 petro\n",
      "8 say\n",
      "9 speech\n",
      "10 umfsru\n"
     ]
    }
   ],
   "source": [
    "\n",
    "dictionary = gensim.corpora.Dictionary(processed_docs)\n",
    "count = 0\n",
    "for k, v in dictionary.iteritems():\n",
    "    print(k, v)\n",
    "    count += 1\n",
    "    if count > 10:\n",
    "        break"
   ]
  },
  {
   "cell_type": "code",
   "execution_count": 21,
   "metadata": {},
   "outputs": [],
   "source": [
    "dictionary.filter_extremes(no_below=15, no_above=0.5, keep_n=100000)"
   ]
  },
  {
   "cell_type": "markdown",
   "metadata": {},
   "source": [
    "gensim doc2bow"
   ]
  },
  {
   "cell_type": "code",
   "execution_count": 48,
   "metadata": {},
   "outputs": [
    {
     "data": {
      "text/plain": [
       "[(4, 1), (48, 1), (292, 2)]"
      ]
     },
     "execution_count": 48,
     "metadata": {},
     "output_type": "execute_result"
    }
   ],
   "source": [
    "bow_corpus = [dictionary.doc2bow(doc) for doc in processed_docs]\n",
    "bow_corpus[2839]"
   ]
  },
  {
   "cell_type": "code",
   "execution_count": 50,
   "metadata": {},
   "outputs": [
    {
     "name": "stdout",
     "output_type": "stream",
     "text": [
      "Word 4 (\"say\") appears 1 time.\n",
      "Word 48 (\"colombian\") appears 1 time.\n",
      "Word 292 (\"good\") appears 2 time.\n"
     ]
    }
   ],
   "source": [
    "bow_doc_2839 = bow_corpus[2839]\n",
    "for i in range(len(bow_doc_4310)):\n",
    "    print(\"Word {} (\\\"{}\\\") appears {} time.\".format(bow_doc_4310[i][0], \n",
    "                                               dictionary[bow_doc_4310[i][0]], \n",
    "bow_doc_2839[i][1]))"
   ]
  },
  {
   "cell_type": "code",
   "execution_count": 51,
   "metadata": {},
   "outputs": [
    {
     "name": "stdout",
     "output_type": "stream",
     "text": [
      "[(0, 0.5445638877127057),\n",
      " (1, 0.43340558479484914),\n",
      " (2, 0.47997580026243186),\n",
      " (3, 0.3721987965465388),\n",
      " (4, 0.3830157415558857)]\n"
     ]
    }
   ],
   "source": [
    "from gensim import corpora, models\n",
    "tfidf = models.TfidfModel(bow_corpus)\n",
    "corpus_tfidf = tfidf[bow_corpus]\n",
    "from pprint import pprint\n",
    "for doc in corpus_tfidf:\n",
    "    pprint(doc)\n",
    "    break"
   ]
  },
  {
   "cell_type": "code",
   "execution_count": 54,
   "metadata": {},
   "outputs": [
    {
     "data": {
      "text/plain": [
       "<gensim.models.ldamulticore.LdaMulticore at 0x1eb9f9190d0>"
      ]
     },
     "execution_count": 54,
     "metadata": {},
     "output_type": "execute_result"
    }
   ],
   "source": [
    "lda_model"
   ]
  },
  {
   "cell_type": "code",
   "execution_count": 53,
   "metadata": {},
   "outputs": [],
   "source": [
    "lda_model = gensim.models.LdaMulticore(bow_corpus, num_topics=10, id2word=dictionary, passes=2, workers=2)"
   ]
  },
  {
   "cell_type": "code",
   "execution_count": 61,
   "metadata": {},
   "outputs": [
    {
     "data": {
      "text/plain": [
       "['say',\n",
       " 'maría',\n",
       " 'paula',\n",
       " 'correa',\n",
       " 'assault',\n",
       " 'good',\n",
       " 'faith',\n",
       " 'assault',\n",
       " 'good',\n",
       " 'faith',\n",
       " 'colombian']"
      ]
     },
     "execution_count": 61,
     "metadata": {},
     "output_type": "execute_result"
    }
   ],
   "source": [
    "processed_docs[2839]"
   ]
  },
  {
   "cell_type": "code",
   "execution_count": 64,
   "metadata": {},
   "outputs": [
    {
     "name": "stdout",
     "output_type": "stream",
     "text": [
      "\n",
      "Score: 0.819962739944458\t \n",
      "Topic: 0.038*\"bogotá\" + 0.022*\"know\" + 0.022*\"colombia\" + 0.017*\"good\" + 0.017*\"today\" + 0.016*\"woman\" + 0.015*\"work\" + 0.014*\"great\" + 0.012*\"time\" + 0.012*\"polit\"\n",
      "\n",
      "Score: 0.020007213577628136\t \n",
      "Topic: 0.034*\"thank\" + 0.027*\"today\" + 0.018*\"colombian\" + 0.017*\"look\" + 0.016*\"tell\" + 0.015*\"right\" + 0.015*\"stori\" + 0.014*\"leav\" + 0.013*\"peopl\" + 0.013*\"year\"\n",
      "\n",
      "Score: 0.02000497654080391\t \n",
      "Topic: 0.024*\"colombia\" + 0.023*\"candid\" + 0.020*\"petro\" + 0.016*\"urib\" + 0.016*\"senat\" + 0.015*\"film\" + 0.014*\"pact\" + 0.013*\"campaign\" + 0.013*\"countri\" + 0.012*\"state\"\n",
      "\n",
      "Score: 0.020004529505968094\t \n",
      "Topic: 0.029*\"elect\" + 0.025*\"presid\" + 0.019*\"losdaniel\" + 0.017*\"covid\" + 0.015*\"vote\" + 0.015*\"year\" + 0.014*\"gener\" + 0.014*\"call\" + 0.013*\"talk\" + 0.012*\"elpaisenvivo\"\n",
      "\n",
      "Score: 0.02000439539551735\t \n",
      "Topic: 0.025*\"like\" + 0.019*\"colombia\" + 0.014*\"best\" + 0.013*\"leav\" + 0.013*\"chang\" + 0.013*\"follow\" + 0.012*\"commun\" + 0.012*\"govern\" + 0.012*\"leticia\" + 0.011*\"polit\"\n",
      "\n",
      "Score: 0.020004350692033768\t \n",
      "Topic: 0.036*\"countri\" + 0.024*\"want\" + 0.024*\"peopl\" + 0.022*\"go\" + 0.018*\"colombia\" + 0.018*\"video\" + 0.018*\"newsuno\" + 0.015*\"tell\" + 0.014*\"news\" + 0.014*\"kill\"\n",
      "\n",
      "Score: 0.020003849640488625\t \n",
      "Topic: 0.027*\"time\" + 0.024*\"today\" + 0.021*\"year\" + 0.018*\"petro\" + 0.018*\"colombian\" + 0.018*\"column\" + 0.017*\"return\" + 0.012*\"photo\" + 0.012*\"alair\" + 0.012*\"give\"\n",
      "\n",
      "Score: 0.02000368759036064\t \n",
      "Topic: 0.036*\"merlano\" + 0.035*\"aida\" + 0.032*\"char\" + 0.016*\"world\" + 0.014*\"know\" + 0.014*\"follow\" + 0.013*\"talk\" + 0.013*\"begin\" + 0.012*\"year\" + 0.012*\"petro\"\n",
      "\n",
      "Score: 0.020002169534564018\t \n",
      "Topic: 0.024*\"losdaniel\" + 0.022*\"pereira\" + 0.019*\"petro\" + 0.018*\"dirtylikechar\" + 0.016*\"colombia\" + 0.014*\"dead\" + 0.013*\"steal\" + 0.013*\"peopl\" + 0.013*\"caracol\" + 0.012*\"watch\"\n",
      "\n",
      "Score: 0.020002122968435287\t \n",
      "Topic: 0.068*\"colombia\" + 0.021*\"govern\" + 0.020*\"today\" + 0.018*\"presid\" + 0.018*\"leav\" + 0.016*\"love\" + 0.015*\"think\" + 0.014*\"live\" + 0.013*\"thank\" + 0.012*\"countri\"\n"
     ]
    }
   ],
   "source": [
    "for index, score in sorted(lda_model[bow_corpus[2839]], key=lambda tup: -1*tup[1]):\n",
    "    print(\"\\nScore: {}\\t \\nTopic: {}\".format(score, lda_model.print_topic(index, 10)))"
   ]
  }
 ],
 "metadata": {
  "colab": {
   "name": "proyecto_sistemas_temas.ipynb",
   "provenance": []
  },
  "kernelspec": {
   "display_name": "Python 3",
   "language": "python",
   "name": "python3"
  },
  "language_info": {
   "codemirror_mode": {
    "name": "ipython",
    "version": 3
   },
   "file_extension": ".py",
   "mimetype": "text/x-python",
   "name": "python",
   "nbconvert_exporter": "python",
   "pygments_lexer": "ipython3",
   "version": "3.8.5"
  }
 },
 "nbformat": 4,
 "nbformat_minor": 4
}
